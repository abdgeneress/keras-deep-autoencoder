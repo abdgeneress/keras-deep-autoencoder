{
 "cells": [
  {
   "cell_type": "code",
   "execution_count": 1,
   "metadata": {},
   "outputs": [
    {
     "name": "stderr",
     "output_type": "stream",
     "text": [
      "Using TensorFlow backend.\n"
     ]
    }
   ],
   "source": [
    "from keras.layers import Input, Dense\n",
    "from keras.models import Model"
   ]
  },
  {
   "cell_type": "code",
   "execution_count": 8,
   "metadata": {},
   "outputs": [],
   "source": [
    "# this is the size of our encoded representations\n",
    "encoding_dim = 32  # 32 floats -> compression of factor 24.5, assuming the input is 784 floats\n",
    "\n",
    "# this is our input placeholder\n",
    "input_img = Input(shape=(784,))"
   ]
  },
  {
   "cell_type": "code",
   "execution_count": 9,
   "metadata": {},
   "outputs": [],
   "source": [
    "from keras.datasets import mnist\n",
    "import numpy as np\n",
    "(x_train, _), (x_test, _) = mnist.load_data()"
   ]
  },
  {
   "cell_type": "code",
   "execution_count": 11,
   "metadata": {},
   "outputs": [
    {
     "name": "stdout",
     "output_type": "stream",
     "text": [
      "(60000, 784)\n",
      "(10000, 784)\n"
     ]
    }
   ],
   "source": [
    "x_train = x_train.astype('float32') / 255.\n",
    "x_test = x_test.astype('float32') / 255.\n",
    "x_train = x_train.reshape((len(x_train), np.prod(x_train.shape[1:])))\n",
    "x_test = x_test.reshape((len(x_test), np.prod(x_test.shape[1:])))\n",
    "print(x_train.shape)\n",
    "print(x_test.shape)"
   ]
  },
  {
   "cell_type": "code",
   "execution_count": 12,
   "metadata": {},
   "outputs": [],
   "source": [
    "encoded = Dense(128, activation='relu')(input_img)\n",
    "encoded = Dense(64, activation='relu')(encoded)\n",
    "encoded = Dense(32, activation='relu')(encoded)\n",
    "\n",
    "decoded = Dense(64, activation='relu')(encoded)\n",
    "decoded = Dense(128, activation='relu')(decoded)\n",
    "decoded = Dense(784, activation='sigmoid')(decoded)"
   ]
  },
  {
   "cell_type": "code",
   "execution_count": 13,
   "metadata": {},
   "outputs": [
    {
     "name": "stderr",
     "output_type": "stream",
     "text": [
      "W1001 22:11:50.130856  3920 deprecation_wrapper.py:119] From C:\\Users\\USER\\Anaconda3\\lib\\site-packages\\keras\\backend\\tensorflow_backend.py:986: The name tf.assign_add is deprecated. Please use tf.compat.v1.assign_add instead.\n",
      "\n"
     ]
    },
    {
     "name": "stdout",
     "output_type": "stream",
     "text": [
      "Train on 60000 samples, validate on 10000 samples\n",
      "Epoch 1/100\n",
      "60000/60000 [==============================] - 7s 109us/step - loss: 0.3320 - val_loss: 0.2623\n",
      "Epoch 2/100\n",
      "60000/60000 [==============================] - 5s 87us/step - loss: 0.2536 - val_loss: 0.2440\n",
      "Epoch 3/100\n",
      "60000/60000 [==============================] - 6s 101us/step - loss: 0.2318 - val_loss: 0.2164\n",
      "Epoch 4/100\n",
      "60000/60000 [==============================] - 5s 76us/step - loss: 0.2095 - val_loss: 0.1987\n",
      "Epoch 5/100\n",
      "60000/60000 [==============================] - 5s 76us/step - loss: 0.1926 - val_loss: 0.1852\n",
      "Epoch 6/100\n",
      "60000/60000 [==============================] - 5s 76us/step - loss: 0.1806 - val_loss: 0.1759\n",
      "Epoch 7/100\n",
      "60000/60000 [==============================] - 5s 84us/step - loss: 0.1742 - val_loss: 0.1706\n",
      "Epoch 8/100\n",
      "60000/60000 [==============================] - 5s 77us/step - loss: 0.1692 - val_loss: 0.1662\n",
      "Epoch 9/100\n",
      "60000/60000 [==============================] - 5s 77us/step - loss: 0.1650 - val_loss: 0.1609\n",
      "Epoch 10/100\n",
      "60000/60000 [==============================] - 5s 79us/step - loss: 0.1614 - val_loss: 0.1585\n",
      "Epoch 11/100\n",
      "60000/60000 [==============================] - 4s 75us/step - loss: 0.1577 - val_loss: 0.1539\n",
      "Epoch 12/100\n",
      "60000/60000 [==============================] - 4s 75us/step - loss: 0.1542 - val_loss: 0.1530\n",
      "Epoch 13/100\n",
      "60000/60000 [==============================] - 4s 74us/step - loss: 0.1509 - val_loss: 0.1503\n",
      "Epoch 14/100\n",
      "60000/60000 [==============================] - 4s 75us/step - loss: 0.1484 - val_loss: 0.1462\n",
      "Epoch 15/100\n",
      "60000/60000 [==============================] - 5s 75us/step - loss: 0.1459 - val_loss: 0.1445\n",
      "Epoch 16/100\n",
      "60000/60000 [==============================] - 4s 74us/step - loss: 0.1435 - val_loss: 0.1390\n",
      "Epoch 17/100\n",
      "60000/60000 [==============================] - 5s 75us/step - loss: 0.1413 - val_loss: 0.1399\n",
      "Epoch 18/100\n",
      "60000/60000 [==============================] - 5s 77us/step - loss: 0.1395 - val_loss: 0.1361\n",
      "Epoch 19/100\n",
      "60000/60000 [==============================] - 5s 82us/step - loss: 0.1379 - val_loss: 0.1359\n",
      "Epoch 20/100\n",
      "60000/60000 [==============================] - 5s 80us/step - loss: 0.1363 - val_loss: 0.1347\n",
      "Epoch 21/100\n",
      "60000/60000 [==============================] - 5s 81us/step - loss: 0.1350 - val_loss: 0.1331\n",
      "Epoch 22/100\n",
      "60000/60000 [==============================] - 5s 76us/step - loss: 0.1336 - val_loss: 0.1337\n",
      "Epoch 23/100\n",
      "60000/60000 [==============================] - 5s 78us/step - loss: 0.1325 - val_loss: 0.1289\n",
      "Epoch 24/100\n",
      "60000/60000 [==============================] - 5s 91us/step - loss: 0.1312 - val_loss: 0.1280\n",
      "Epoch 25/100\n",
      "60000/60000 [==============================] - 6s 103us/step - loss: 0.1297 - val_loss: 0.1294\n",
      "Epoch 26/100\n",
      "60000/60000 [==============================] - 5s 83us/step - loss: 0.1289 - val_loss: 0.1269\n",
      "Epoch 27/100\n",
      "60000/60000 [==============================] - 5s 87us/step - loss: 0.1281 - val_loss: 0.1256\n",
      "Epoch 28/100\n",
      "60000/60000 [==============================] - 6s 92us/step - loss: 0.1270 - val_loss: 0.1225\n",
      "Epoch 29/100\n",
      "60000/60000 [==============================] - 5s 82us/step - loss: 0.1258 - val_loss: 0.1244\n",
      "Epoch 30/100\n",
      "60000/60000 [==============================] - 5s 79us/step - loss: 0.1251 - val_loss: 0.1252\n",
      "Epoch 31/100\n",
      "60000/60000 [==============================] - 5s 83us/step - loss: 0.1242 - val_loss: 0.1231\n",
      "Epoch 32/100\n",
      "60000/60000 [==============================] - 8s 125us/step - loss: 0.1237 - val_loss: 0.1206\n",
      "Epoch 33/100\n",
      "60000/60000 [==============================] - 5s 76us/step - loss: 0.1224 - val_loss: 0.1231\n",
      "Epoch 34/100\n",
      "60000/60000 [==============================] - 5s 78us/step - loss: 0.1219 - val_loss: 0.1193\n",
      "Epoch 35/100\n",
      "60000/60000 [==============================] - 5s 80us/step - loss: 0.1208 - val_loss: 0.1201\n",
      "Epoch 36/100\n",
      "60000/60000 [==============================] - 5s 77us/step - loss: 0.1200 - val_loss: 0.1182\n",
      "Epoch 37/100\n",
      "60000/60000 [==============================] - 6s 92us/step - loss: 0.1193 - val_loss: 0.1170\n",
      "Epoch 38/100\n",
      "60000/60000 [==============================] - 5s 83us/step - loss: 0.1185 - val_loss: 0.1172\n",
      "Epoch 39/100\n",
      "60000/60000 [==============================] - 5s 77us/step - loss: 0.1178 - val_loss: 0.1153\n",
      "Epoch 40/100\n",
      "60000/60000 [==============================] - 7s 121us/step - loss: 0.1176 - val_loss: 0.1152\n",
      "Epoch 41/100\n",
      "60000/60000 [==============================] - 5s 77us/step - loss: 0.1164 - val_loss: 0.1140\n",
      "Epoch 42/100\n",
      "60000/60000 [==============================] - 4s 75us/step - loss: 0.1157 - val_loss: 0.1132\n",
      "Epoch 43/100\n",
      "60000/60000 [==============================] - 5s 75us/step - loss: 0.1154 - val_loss: 0.1137\n",
      "Epoch 44/100\n",
      "60000/60000 [==============================] - 5s 78us/step - loss: 0.1147 - val_loss: 0.1119\n",
      "Epoch 45/100\n",
      "60000/60000 [==============================] - 8s 129us/step - loss: 0.1146 - val_loss: 0.1109\n",
      "Epoch 46/100\n",
      "60000/60000 [==============================] - 5s 79us/step - loss: 0.1135 - val_loss: 0.1115\n",
      "Epoch 47/100\n",
      "60000/60000 [==============================] - 5s 88us/step - loss: 0.1131 - val_loss: 0.1103\n",
      "Epoch 48/100\n",
      "60000/60000 [==============================] - 6s 93us/step - loss: 0.1126 - val_loss: 0.1100\n",
      "Epoch 49/100\n",
      "60000/60000 [==============================] - 5s 86us/step - loss: 0.1123 - val_loss: 0.1106\n",
      "Epoch 50/100\n",
      "60000/60000 [==============================] - 5s 86us/step - loss: 0.1117 - val_loss: 0.1118\n",
      "Epoch 51/100\n",
      "60000/60000 [==============================] - 6s 97us/step - loss: 0.1116 - val_loss: 0.1094\n",
      "Epoch 52/100\n",
      "60000/60000 [==============================] - 6s 99us/step - loss: 0.1110 - val_loss: 0.1095\n",
      "Epoch 53/100\n",
      "60000/60000 [==============================] - 5s 89us/step - loss: 0.1107 - val_loss: 0.1109\n",
      "Epoch 54/100\n",
      "60000/60000 [==============================] - 5s 88us/step - loss: 0.1105 - val_loss: 0.1094\n",
      "Epoch 55/100\n",
      "60000/60000 [==============================] - 6s 96us/step - loss: 0.1097 - val_loss: 0.1107\n",
      "Epoch 56/100\n",
      "60000/60000 [==============================] - 5s 89us/step - loss: 0.1098 - val_loss: 0.1086\n",
      "Epoch 57/100\n",
      "60000/60000 [==============================] - 5s 82us/step - loss: 0.1092 - val_loss: 0.1094\n",
      "Epoch 58/100\n",
      "60000/60000 [==============================] - 5s 81us/step - loss: 0.1089 - val_loss: 0.1068\n",
      "Epoch 59/100\n",
      "60000/60000 [==============================] - 5s 82us/step - loss: 0.1086 - val_loss: 0.1092\n",
      "Epoch 60/100\n",
      "60000/60000 [==============================] - 5s 89us/step - loss: 0.1084 - val_loss: 0.1115\n",
      "Epoch 61/100\n",
      "60000/60000 [==============================] - 6s 95us/step - loss: 0.1083 - val_loss: 0.1105\n",
      "Epoch 62/100\n",
      "60000/60000 [==============================] - 5s 88us/step - loss: 0.1078 - val_loss: 0.1062\n",
      "Epoch 63/100\n",
      "60000/60000 [==============================] - 5s 87us/step - loss: 0.1076 - val_loss: 0.1066\n",
      "Epoch 64/100\n",
      "60000/60000 [==============================] - 5s 86us/step - loss: 0.1072 - val_loss: 0.1079\n",
      "Epoch 65/100\n",
      "60000/60000 [==============================] - 5s 86us/step - loss: 0.1071 - val_loss: 0.1063\n",
      "Epoch 66/100\n",
      "60000/60000 [==============================] - 5s 87us/step - loss: 0.1069 - val_loss: 0.1046\n",
      "Epoch 67/100\n",
      "60000/60000 [==============================] - 5s 86us/step - loss: 0.1065 - val_loss: 0.1054\n",
      "Epoch 68/100\n",
      "60000/60000 [==============================] - 5s 86us/step - loss: 0.1064 - val_loss: 0.1076\n",
      "Epoch 69/100\n",
      "60000/60000 [==============================] - 5s 86us/step - loss: 0.1061 - val_loss: 0.1055\n",
      "Epoch 70/100\n",
      "60000/60000 [==============================] - 5s 86us/step - loss: 0.1057 - val_loss: 0.1037\n",
      "Epoch 71/100\n",
      "60000/60000 [==============================] - 5s 86us/step - loss: 0.1057 - val_loss: 0.1060\n",
      "Epoch 72/100\n",
      "60000/60000 [==============================] - 5s 86us/step - loss: 0.1056 - val_loss: 0.1048\n",
      "Epoch 73/100\n",
      "60000/60000 [==============================] - 5s 86us/step - loss: 0.1052 - val_loss: 0.1022\n",
      "Epoch 74/100\n",
      "60000/60000 [==============================] - 5s 86us/step - loss: 0.1050 - val_loss: 0.1057\n",
      "Epoch 75/100\n",
      "60000/60000 [==============================] - 5s 88us/step - loss: 0.1046 - val_loss: 0.1028\n",
      "Epoch 76/100\n",
      "60000/60000 [==============================] - 5s 88us/step - loss: 0.1048 - val_loss: 0.1042\n",
      "Epoch 77/100\n"
     ]
    },
    {
     "name": "stdout",
     "output_type": "stream",
     "text": [
      "60000/60000 [==============================] - 5s 91us/step - loss: 0.1043 - val_loss: 0.1026\n",
      "Epoch 78/100\n",
      "60000/60000 [==============================] - 5s 91us/step - loss: 0.1041 - val_loss: 0.1029\n",
      "Epoch 79/100\n",
      "60000/60000 [==============================] - 5s 84us/step - loss: 0.1039 - val_loss: 0.1046\n",
      "Epoch 80/100\n",
      "60000/60000 [==============================] - 5s 90us/step - loss: 0.1037 - val_loss: 0.1046\n",
      "Epoch 81/100\n",
      "60000/60000 [==============================] - 5s 90us/step - loss: 0.1036 - val_loss: 0.1046\n",
      "Epoch 82/100\n",
      "60000/60000 [==============================] - 5s 80us/step - loss: 0.1034 - val_loss: 0.1045\n",
      "Epoch 83/100\n",
      "60000/60000 [==============================] - 5s 87us/step - loss: 0.1031 - val_loss: 0.1011\n",
      "Epoch 84/100\n",
      "60000/60000 [==============================] - 5s 84us/step - loss: 0.1029 - val_loss: 0.1009\n",
      "Epoch 85/100\n",
      "60000/60000 [==============================] - 5s 83us/step - loss: 0.1028 - val_loss: 0.1019\n",
      "Epoch 86/100\n",
      "60000/60000 [==============================] - 5s 86us/step - loss: 0.1024 - val_loss: 0.1035\n",
      "Epoch 87/100\n",
      "60000/60000 [==============================] - 5s 78us/step - loss: 0.1024 - val_loss: 0.1010\n",
      "Epoch 88/100\n",
      "60000/60000 [==============================] - 5s 76us/step - loss: 0.1022 - val_loss: 0.1022\n",
      "Epoch 89/100\n",
      "60000/60000 [==============================] - 5s 76us/step - loss: 0.1022 - val_loss: 0.1023\n",
      "Epoch 90/100\n",
      "60000/60000 [==============================] - 5s 77us/step - loss: 0.1020 - val_loss: 0.1046\n",
      "Epoch 91/100\n",
      "60000/60000 [==============================] - 5s 76us/step - loss: 0.1019 - val_loss: 0.1008\n",
      "Epoch 92/100\n",
      "60000/60000 [==============================] - 5s 76us/step - loss: 0.1019 - val_loss: 0.0996\n",
      "Epoch 93/100\n",
      "60000/60000 [==============================] - 5s 77us/step - loss: 0.1018 - val_loss: 0.1044\n",
      "Epoch 94/100\n",
      "60000/60000 [==============================] - 5s 80us/step - loss: 0.1015 - val_loss: 0.1013\n",
      "Epoch 95/100\n",
      "60000/60000 [==============================] - 5s 83us/step - loss: 0.1014 - val_loss: 0.1013\n",
      "Epoch 96/100\n",
      "60000/60000 [==============================] - 6s 100us/step - loss: 0.1013 - val_loss: 0.1014\n",
      "Epoch 97/100\n",
      "60000/60000 [==============================] - 5s 81us/step - loss: 0.1011 - val_loss: 0.1004\n",
      "Epoch 98/100\n",
      "60000/60000 [==============================] - 5s 82us/step - loss: 0.1010 - val_loss: 0.1023\n",
      "Epoch 99/100\n",
      "60000/60000 [==============================] - 5s 89us/step - loss: 0.1009 - val_loss: 0.1009\n",
      "Epoch 100/100\n",
      "60000/60000 [==============================] - 5s 88us/step - loss: 0.1006 - val_loss: 0.0998\n"
     ]
    },
    {
     "data": {
      "text/plain": [
       "<keras.callbacks.History at 0x24ee4a7d198>"
      ]
     },
     "execution_count": 13,
     "metadata": {},
     "output_type": "execute_result"
    }
   ],
   "source": [
    "autoencoder = Model(input_img, decoded)\n",
    "autoencoder.compile(optimizer='adadelta', loss='binary_crossentropy')\n",
    "\n",
    "autoencoder.fit(x_train, x_train,\n",
    "                epochs=100,\n",
    "                batch_size=256,\n",
    "                shuffle=True,\n",
    "                validation_data=(x_test, x_test))"
   ]
  },
  {
   "cell_type": "code",
   "execution_count": 14,
   "metadata": {},
   "outputs": [
    {
     "name": "stderr",
     "output_type": "stream",
     "text": [
      "C:\\Users\\USER\\Anaconda3\\lib\\site-packages\\ipykernel_launcher.py:11: MatplotlibDeprecationWarning: Adding an axes using the same arguments as a previous axes currently reuses the earlier instance.  In a future version, a new instance will always be created and returned.  Meanwhile, this warning can be suppressed, and the future behavior ensured, by passing a unique label to each axes instance.\n",
      "  # This is added back by InteractiveShellApp.init_path()\n"
     ]
    },
    {
     "data": {
      "text/plain": [
       "<Figure size 2000x400 with 19 Axes>"
      ]
     },
     "metadata": {},
     "output_type": "display_data"
    }
   ],
   "source": [
    "import matplotlib.pyplot as plt\n",
    "\n",
    "\n",
    "\n",
    "decoded_imgs = autoencoder.predict(x_test)\n",
    "\n",
    "n = 10\n",
    "plt.figure(figsize=(20, 4))\n",
    "for i in range(n):\n",
    "    # display original\n",
    "    ax = plt.subplot(2, n, i+1)\n",
    "    plt.imshow(x_test[i].reshape(28, 28))\n",
    "    plt.gray()\n",
    "    ax.get_xaxis().set_visible(False)\n",
    "    ax.get_yaxis().set_visible(False)\n",
    "\n",
    "    # display reconstruction\n",
    "    ax = plt.subplot(2, n, i + n)\n",
    "    plt.imshow(decoded_imgs[i].reshape(28, 28))\n",
    "    plt.gray()\n",
    "    ax.get_xaxis().set_visible(False)\n",
    "    ax.get_yaxis().set_visible(False)\n",
    "plt.show()"
   ]
  },
  {
   "cell_type": "code",
   "execution_count": null,
   "metadata": {},
   "outputs": [],
   "source": []
  }
 ],
 "metadata": {
  "kernelspec": {
   "display_name": "Python 3",
   "language": "python",
   "name": "python3"
  },
  "language_info": {
   "codemirror_mode": {
    "name": "ipython",
    "version": 3
   },
   "file_extension": ".py",
   "mimetype": "text/x-python",
   "name": "python",
   "nbconvert_exporter": "python",
   "pygments_lexer": "ipython3",
   "version": "3.7.3"
  }
 },
 "nbformat": 4,
 "nbformat_minor": 2
}
